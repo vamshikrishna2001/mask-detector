{
 "cells": [
  {
   "cell_type": "code",
   "execution_count": 1,
   "metadata": {},
   "outputs": [],
   "source": [
    "import torch\n",
    "import torch.nn as nn\n",
    "import torch.nn.functional as F\n",
    "import numpy as np\n",
    "import pandas as pd\n",
    "import matplotlib.pyplot as plt\n",
    "\n",
    "from torch.utils.data import DataLoader\n",
    "from torchvision import datasets,models,transforms\n",
    "from torchvision.utils import make_grid"
   ]
  },
  {
   "cell_type": "code",
   "execution_count": 2,
   "metadata": {},
   "outputs": [],
   "source": [
    "train_transform = transforms.Compose([\n",
    "    \n",
    "    transforms.RandomRotation(10),\n",
    "    transforms.RandomHorizontalFlip(p=0.2),\n",
    "    transforms.Grayscale(),\n",
    "    transforms.Resize(224),\n",
    "    transforms.CenterCrop(224),\n",
    "    transforms.ToTensor()\n",
    "    \n",
    "])"
   ]
  },
  {
   "cell_type": "code",
   "execution_count": 3,
   "metadata": {},
   "outputs": [],
   "source": [
    "test_transform = transforms.Compose([\n",
    "    \n",
    "    transforms.Grayscale(),\n",
    "    transforms.Resize(224),\n",
    "    transforms.CenterCrop(224),\n",
    "    transforms.ToTensor()\n",
    "    \n",
    "])"
   ]
  },
  {
   "cell_type": "code",
   "execution_count": 4,
   "metadata": {},
   "outputs": [],
   "source": [
    "path = \"V:\\\\projects\\\\corona mask detector\\\\dataset\\\\\""
   ]
  },
  {
   "cell_type": "code",
   "execution_count": 5,
   "metadata": {},
   "outputs": [],
   "source": [
    "train_data = datasets.ImageFolder(root=path + \"train\",transform=train_transform)\n",
    "test_data = datasets.ImageFolder(root=path + \"test\",transform=test_transform)"
   ]
  },
  {
   "cell_type": "code",
   "execution_count": 6,
   "metadata": {},
   "outputs": [
    {
     "name": "stdout",
     "output_type": "stream",
     "text": [
      "{'with mask': 0, 'without mask': 1}\n",
      "{'with mask': 0, 'without mask': 1}\n"
     ]
    }
   ],
   "source": [
    "print(train_data.class_to_idx)\n",
    "print(test_data.class_to_idx)"
   ]
  },
  {
   "cell_type": "code",
   "execution_count": 7,
   "metadata": {},
   "outputs": [],
   "source": [
    "torch.manual_seed(59)\n",
    "train_loader = DataLoader(train_data,batch_size = 10,shuffle = True)\n",
    "test_loader = DataLoader(test_data,batch_size = 50,shuffle = False)"
   ]
  },
  {
   "cell_type": "code",
   "execution_count": 8,
   "metadata": {},
   "outputs": [
    {
     "name": "stdout",
     "output_type": "stream",
     "text": [
      "1117\n",
      "259\n"
     ]
    }
   ],
   "source": [
    "print(len(train_data))\n",
    "print(len(test_data))"
   ]
  },
  {
   "cell_type": "code",
   "execution_count": 9,
   "metadata": {},
   "outputs": [
    {
     "name": "stdout",
     "output_type": "stream",
     "text": [
      "tensor([[[[0.0000, 0.0000, 0.0000,  ..., 0.9412, 0.9373, 0.9373],\n",
      "          [0.0000, 0.0000, 0.0000,  ..., 0.9451, 0.9529, 0.9725],\n",
      "          [0.0000, 0.0000, 0.0000,  ..., 0.9804, 0.9843, 0.9804],\n",
      "          ...,\n",
      "          [0.9216, 0.9216, 0.8824,  ..., 0.0000, 0.0000, 0.0000],\n",
      "          [0.9059, 0.9020, 0.8941,  ..., 0.0000, 0.0000, 0.0000],\n",
      "          [0.8902, 0.8863, 0.8706,  ..., 0.0000, 0.0000, 0.0000]]],\n",
      "\n",
      "\n",
      "        [[[0.0000, 0.0000, 0.0000,  ..., 0.0980, 0.0000, 0.0000],\n",
      "          [0.0000, 0.0000, 0.0000,  ..., 0.0980, 0.0000, 0.0000],\n",
      "          [0.1255, 0.1294, 0.1294,  ..., 0.1020, 0.0000, 0.0000],\n",
      "          ...,\n",
      "          [0.0000, 0.0000, 0.0510,  ..., 0.0784, 0.0784, 0.0745],\n",
      "          [0.0000, 0.0000, 0.0431,  ..., 0.0000, 0.0000, 0.0000],\n",
      "          [0.0000, 0.0000, 0.0549,  ..., 0.0000, 0.0000, 0.0000]]],\n",
      "\n",
      "\n",
      "        [[[0.0000, 0.0000, 0.0000,  ..., 0.0000, 0.0000, 0.0000],\n",
      "          [0.0000, 0.0000, 0.0000,  ..., 0.0000, 0.0000, 0.0000],\n",
      "          [0.0000, 0.0000, 0.0000,  ..., 0.0000, 0.0000, 0.0000],\n",
      "          ...,\n",
      "          [0.0000, 0.0000, 0.0000,  ..., 0.0000, 0.0000, 0.0000],\n",
      "          [0.0000, 0.0000, 0.0000,  ..., 0.0000, 0.0000, 0.0000],\n",
      "          [0.0000, 0.0000, 0.0000,  ..., 0.0000, 0.0000, 0.0000]]],\n",
      "\n",
      "\n",
      "        ...,\n",
      "\n",
      "\n",
      "        [[[0.0000, 0.0000, 0.0000,  ..., 0.6549, 0.4745, 0.2706],\n",
      "          [0.0000, 0.0000, 0.0000,  ..., 0.8706, 0.8392, 0.7725],\n",
      "          [0.0000, 0.0000, 0.0000,  ..., 0.8784, 0.8588, 0.8549],\n",
      "          ...,\n",
      "          [0.3020, 0.3216, 0.3373,  ..., 0.0000, 0.0000, 0.0000],\n",
      "          [0.0902, 0.1686, 0.2510,  ..., 0.0000, 0.0000, 0.0000],\n",
      "          [0.0235, 0.0314, 0.0588,  ..., 0.0000, 0.0000, 0.0000]]],\n",
      "\n",
      "\n",
      "        [[[0.9451, 0.9843, 0.9765,  ..., 0.0000, 0.0000, 0.0000],\n",
      "          [0.9686, 0.9333, 0.9686,  ..., 0.0000, 0.0000, 0.0000],\n",
      "          [0.9529, 0.9098, 0.9373,  ..., 0.0000, 0.0000, 0.0000],\n",
      "          ...,\n",
      "          [0.0000, 0.0000, 0.0000,  ..., 0.2235, 0.2078, 0.2196],\n",
      "          [0.0000, 0.0000, 0.0000,  ..., 0.2000, 0.2353, 0.2196],\n",
      "          [0.0000, 0.0000, 0.0000,  ..., 0.1137, 0.2235, 0.1608]]],\n",
      "\n",
      "\n",
      "        [[[0.0000, 0.0000, 0.0000,  ..., 0.8431, 0.8392, 0.8510],\n",
      "          [0.0000, 0.0000, 0.0000,  ..., 0.8078, 0.8235, 0.8235],\n",
      "          [0.0000, 0.0000, 0.0000,  ..., 0.7804, 0.7961, 0.8392],\n",
      "          ...,\n",
      "          [0.0549, 0.0745, 0.1059,  ..., 0.0000, 0.0000, 0.0000],\n",
      "          [0.0706, 0.0824, 0.1294,  ..., 0.0000, 0.0000, 0.0000],\n",
      "          [0.0784, 0.1098, 0.1725,  ..., 0.0000, 0.0000, 0.0000]]]]) tensor([1, 1, 1, 1, 0, 1, 1, 1, 0, 0])\n"
     ]
    }
   ],
   "source": [
    "for i,j in train_loader:\n",
    "    print(i,j)\n",
    "    break"
   ]
  },
  {
   "cell_type": "code",
   "execution_count": 10,
   "metadata": {},
   "outputs": [
    {
     "data": {
      "text/plain": [
       "<matplotlib.image.AxesImage at 0x2a81ebf98c8>"
      ]
     },
     "execution_count": 10,
     "metadata": {},
     "output_type": "execute_result"
    },
    {
     "data": {
      "image/png": "[encoded data removed]",
      "text/plain": [
       "<Figure size 432x288 with 1 Axes>"
      ]
     },
     "metadata": {
      "needs_background": "light"
     },
     "output_type": "display_data"
    }
   ],
   "source": [
    "##default color\n",
    "plt.imshow(i[4].reshape(224,224),cmap=\"gray\")"
   ]
  },
  {
   "cell_type": "code",
   "execution_count": 11,
   "metadata": {},
   "outputs": [],
   "source": [
    "class convnet(nn.Module):\n",
    "    def __init__(self):\n",
    "        super().__init__()\n",
    "        self.conv1 = nn.Conv2d(1,6,3,1) ##(((224-2)/1)-1)/2\n",
    "        self.conv2 = nn.Conv2d(6,16,3,1) ##((((224-2)-1)/2-2)-1)/2\n",
    "        self.fc1 = nn.Linear(54*54*16,120)\n",
    "        self.fc2 = nn.Linear(120,32)\n",
    "        self.fc3 = nn.Linear(32,2)\n",
    "        \n",
    "    def forward(self,x):\n",
    "        x = F.relu(self.conv1(x))\n",
    "        x = F.max_pool2d(x,2,2)\n",
    "        x = F.relu(self.conv2(x))\n",
    "        x = F.max_pool2d(x,2,2)\n",
    "        x = x.view(-1,54*54*16)\n",
    "        x = F.relu(self.fc1(x))\n",
    "        x = F.relu(self.fc2(x))\n",
    "        return F.log_softmax(self.fc3(x),dim = 1)\n",
    "        "
   ]
  },
  {
   "cell_type": "code",
   "execution_count": 12,
   "metadata": {},
   "outputs": [],
   "source": [
    "model = convnet()"
   ]
  },
  {
   "cell_type": "code",
   "execution_count": 13,
   "metadata": {},
   "outputs": [
    {
     "data": {
      "text/plain": [
       "convnet(\n",
       "  (conv1): Conv2d(1, 6, kernel_size=(3, 3), stride=(1, 1))\n",
       "  (conv2): Conv2d(6, 16, kernel_size=(3, 3), stride=(1, 1))\n",
       "  (fc1): Linear(in_features=46656, out_features=120, bias=True)\n",
       "  (fc2): Linear(in_features=120, out_features=32, bias=True)\n",
       "  (fc3): Linear(in_features=32, out_features=2, bias=True)\n",
       ")"
      ]
     },
     "execution_count": 13,
     "metadata": {},
     "output_type": "execute_result"
    }
   ],
   "source": [
    "model.cuda()"
   ]
  },
  {
   "cell_type": "code",
   "execution_count": 14,
   "metadata": {},
   "outputs": [],
   "source": [
    "criterion = torch.nn.CrossEntropyLoss()\n",
    "optimizer = torch.optim.Adam(model.parameters(),lr = 0.001)"
   ]
  },
  {
   "cell_type": "code",
   "execution_count": 15,
   "metadata": {},
   "outputs": [
    {
     "name": "stdout",
     "output_type": "stream",
     "text": [
      "loss in epoch&bacth-->0:50 is 0.4693613648414612\n",
      "loss in epoch&bacth-->0:100 is 0.19372178614139557\n",
      "loss in epoch&bacth-->1:50 is 0.053408183157444\n",
      "loss in epoch&bacth-->1:100 is 0.23349475860595703\n",
      "loss in epoch&bacth-->2:50 is 0.447702020406723\n",
      "loss in epoch&bacth-->2:100 is 0.011390593834221363\n",
      "loss in epoch&bacth-->3:50 is 0.024431869387626648\n",
      "loss in epoch&bacth-->3:100 is 0.0936623364686966\n",
      "loss in epoch&bacth-->4:50 is 0.010631180368363857\n",
      "loss in epoch&bacth-->4:100 is 0.027463948354125023\n",
      "loss in epoch&bacth-->5:50 is 0.04055734723806381\n",
      "loss in epoch&bacth-->5:100 is 0.004491864237934351\n",
      "loss in epoch&bacth-->6:50 is 0.11460419744253159\n",
      "loss in epoch&bacth-->6:100 is 0.036168694496154785\n",
      "loss in epoch&bacth-->7:50 is 0.13387341797351837\n",
      "loss in epoch&bacth-->7:100 is 0.014949897304177284\n",
      "total time taken is -1.3211194713910421\n"
     ]
    }
   ],
   "source": [
    "import time\n",
    "\n",
    "start_time = time.time()\n",
    "epochs = 8\n",
    "train_loss = []\n",
    "test_loss = []\n",
    "train_acc = []\n",
    "test_acc = []\n",
    "\n",
    "for epoch in range(epochs):\n",
    "    trn_acc = 0\n",
    "    tst_acc = 0\n",
    "    for b,(x_train,y_train) in enumerate(train_loader): \n",
    "        b += 1\n",
    "        x_train = x_train.cuda()\n",
    "        y_train = y_train.cuda()\n",
    "        \n",
    "        y_pred = model.forward(x_train)\n",
    "        loss = criterion(y_pred,y_train)\n",
    "        \n",
    "        pred = torch.max(y_pred,1)[1]\n",
    "        trn_acc += (pred == y_train).sum()\n",
    "        \n",
    "        optimizer.zero_grad()\n",
    "        loss.backward()\n",
    "        optimizer.step()\n",
    "        \n",
    "        if b%50 == 0:\n",
    "            print(f\"loss in epoch&bacth-->{epoch}:{b} is {loss}\")\n",
    "            \n",
    "    train_loss.append(loss)   \n",
    "    train_acc.append(trn_acc)\n",
    "    \n",
    "    with torch.no_grad():\n",
    "        for b,(x_test,y_test) in enumerate(test_loader):\n",
    "            \n",
    "            b += 1\n",
    "            x_test = x_test.cuda()\n",
    "            y_test = y_test.cuda()\n",
    "            \n",
    "            y_val = model.forward(x_test)\n",
    "            predicted = torch.max(y_val.data, 1)[1] \n",
    "            tst_acc += (predicted == y_test).sum()\n",
    "            loss = criterion(y_val,y_test)\n",
    "            \n",
    "            if b%50 == 0:\n",
    "                print(f\"test_loss in epoch&b-->{epoch}:{b}\")\n",
    "            \n",
    "            test_loss.append(loss)      \n",
    "        \n",
    "    test_acc.append(tst_acc)\n",
    "\n",
    "\n",
    "\n",
    "print(f\"total time taken is {(start_time - time.time())/60}\")"
   ]
  },
  {
   "cell_type": "code",
   "execution_count": 16,
   "metadata": {},
   "outputs": [
    {
     "data": {
      "image/png": "[encoded data removed]",
      "text/plain": [
       "<Figure size 432x288 with 1 Axes>"
      ]
     },
     "metadata": {
      "needs_background": "light"
     },
     "output_type": "display_data"
    }
   ],
   "source": [
    "plt.plot(train_loss,label = \"train_loss\")\n",
    "plt.plot(test_loss,label = \"test_loss\")\n",
    "plt.legend()\n",
    "plt.show()"
   ]
  },
  {
   "cell_type": "code",
   "execution_count": 17,
   "metadata": {},
   "outputs": [
    {
     "data": {
      "image/png": "[encoded data removed]",
      "text/plain": [
       "<Figure size 432x288 with 1 Axes>"
      ]
     },
     "metadata": {
      "needs_background": "light"
     },
     "output_type": "display_data"
    }
   ],
   "source": [
    "plt.plot(train_acc,label = \"train_acc\")\n",
    "plt.plot(test_acc,label = \"test_acc\")\n",
    "plt.legend()\n",
    "plt.show()"
   ]
  },
  {
   "cell_type": "code",
   "execution_count": 18,
   "metadata": {},
   "outputs": [],
   "source": [
    "from PIL import Image\n",
    "im = Image.open('V:\\\\projects\\\\corona mask detector\\\\dataset\\\\train\\\\with mask\\\\19-with-mask.jpg') "
   ]
  },
  {
   "cell_type": "code",
   "execution_count": 19,
   "metadata": {},
   "outputs": [],
   "source": [
    "trans = transforms.Compose([\n",
    "    \n",
    "    transforms.Grayscale(),\n",
    "    transforms.Resize(224),\n",
    "    transforms.CenterCrop(224),\n",
    "    transforms.ToTensor()\n",
    "    \n",
    "])"
   ]
  },
  {
   "cell_type": "code",
   "execution_count": 20,
   "metadata": {},
   "outputs": [],
   "source": [
    "timg = trans(im)"
   ]
  },
  {
   "cell_type": "code",
   "execution_count": 21,
   "metadata": {},
   "outputs": [],
   "source": [
    "timg = timg.reshape(1,1,224,224) "
   ]
  },
  {
   "cell_type": "code",
   "execution_count": 22,
   "metadata": {},
   "outputs": [
    {
     "data": {
      "text/plain": [
       "torch.Size([1, 1, 224, 224])"
      ]
     },
     "execution_count": 22,
     "metadata": {},
     "output_type": "execute_result"
    }
   ],
   "source": [
    "timg.shape"
   ]
  },
  {
   "cell_type": "code",
   "execution_count": 23,
   "metadata": {},
   "outputs": [
    {
     "data": {
      "text/plain": [
       "torch.Size([9, 1, 224, 224])"
      ]
     },
     "execution_count": 23,
     "metadata": {},
     "output_type": "execute_result"
    }
   ],
   "source": [
    "x_test.shape"
   ]
  },
  {
   "cell_type": "code",
   "execution_count": 25,
   "metadata": {},
   "outputs": [],
   "source": [
    "with torch.no_grad():\n",
    "    y_pred = model.forward(timg.cuda())"
   ]
  },
  {
   "cell_type": "code",
   "execution_count": 26,
   "metadata": {},
   "outputs": [
    {
     "data": {
      "text/plain": [
       "tensor(0, device='cuda:0')"
      ]
     },
     "execution_count": 26,
     "metadata": {},
     "output_type": "execute_result"
    }
   ],
   "source": [
    "y_pred.argmax()"
   ]
  },
  {
   "cell_type": "code",
   "execution_count": 28,
   "metadata": {},
   "outputs": [],
   "source": [
    "PATH = 'V:\\\\projects\\\\corona mask detector\\\\mask.pt'"
   ]
  },
  {
   "cell_type": "code",
   "execution_count": 29,
   "metadata": {},
   "outputs": [],
   "source": [
    "torch.save(model.state_dict(), PATH)"
   ]
  },
  {
   "cell_type": "code",
   "execution_count": null,
   "metadata": {},
   "outputs": [],
   "source": []
  },
  {
   "cell_type": "code",
   "execution_count": null,
   "metadata": {},
   "outputs": [],
   "source": []
  }
 ],
 "metadata": {
  "kernelspec": {
   "display_name": "Python 3",
   "language": "python",
   "name": "python3"
  },
  "language_info": {
   "codemirror_mode": {
    "name": "ipython",
    "version": 3
   },
   "file_extension": ".py",
   "mimetype": "text/x-python",
   "name": "python",
   "nbconvert_exporter": "python",
   "pygments_lexer": "ipython3",
   "version": "3.7.7"
  }
 },
 "nbformat": 4,
 "nbformat_minor": 4
}
